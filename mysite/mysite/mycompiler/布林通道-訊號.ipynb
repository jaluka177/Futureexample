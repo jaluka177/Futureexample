{
 "cells": [
  {
   "cell_type": "code",
   "execution_count": 1,
   "metadata": {
    "collapsed": true
   },
   "outputs": [],
   "source": [
    "def BBANDS(df, n):  \n",
    "    MA = pd.Series(pd.rolling_mean(df['Close'], n))  \n",
    "    MSD = pd.Series(pd.rolling_std(df['Close'], n))  \n",
    "    b1 = 4 * MSD / MA  \n",
    "    B1 = pd.Series(b1, name = 'BollingerB_' + str(n))  \n",
    "    df = df.join(B1)  \n",
    "    b2 = (df['Close'] - MA + 2 * MSD) / (4 * MSD)  \n",
    "    B2 = pd.Series(b2, name = 'Bollinger%b_' + str(n))  \n",
    "    df = df.join(B2)  \n",
    "    return df"
   ]
  }
 ],
 "metadata": {
  "kernelspec": {
   "display_name": "Python 3",
   "language": "python",
   "name": "python3"
  },
  "language_info": {
   "codemirror_mode": {
    "name": "ipython",
    "version": 3
   },
   "file_extension": ".py",
   "mimetype": "text/x-python",
   "name": "python",
   "nbconvert_exporter": "python",
   "pygments_lexer": "ipython3",
   "version": "3.7.2"
  }
 },
 "nbformat": 4,
 "nbformat_minor": 1
}
