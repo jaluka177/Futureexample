{
 "cells": [
  {
   "cell_type": "code",
   "execution_count": 1,
   "metadata": {
    "collapsed": true
   },
   "outputs": [],
   "source": [
    "def MACD(df, n_fast, n_slow):  \n",
    "    EMAfast = pd.Series(pd.ewma(df['Close'], span = n_fast, min_periods = n_slow - 1))  \n",
    "    EMAslow = pd.Series(pd.ewma(df['Close'], span = n_slow, min_periods = n_slow - 1))  \n",
    "    MACD = pd.Series(EMAfast - EMAslow, name = 'MACD_' + str(n_fast) + '_' + str(n_slow))  \n",
    "    MACDsign = pd.Series(pd.ewma(MACD, span = 9, min_periods = 8), name = 'MACDsign_' + str(n_fast) + '_' + str(n_slow))  \n",
    "    MACDdiff = pd.Series(MACD - MACDsign, name = 'MACDdiff_' + str(n_fast) + '_' + str(n_slow))  \n",
    "    df = df.join(MACD)  \n",
    "    df = df.join(MACDsign)  \n",
    "    df = df.join(MACDdiff)  \n",
    "    return df"
   ]
  },
  {
   "cell_type": "code",
   "execution_count": 2,
   "metadata": {},
   "outputs": [],
   "source": [
    "# conn = pymysql.connect(host='localhost', port=3306, passwd='judy870120526142',\\\n",
    "#        user='root', db='future', charset='utf8')\n",
    "# cursor = conn.cursor()\n",
    "# insert_statement = \"\"\"\n",
    "# Insert into compiler\n",
    "# (category,coding,compiler_name)\n",
    "# values\n",
    "# ('',\"\",'')\n",
    "# \"\"\"\n",
    "# cursor.execute(insert_statement)\n",
    "# \n",
    "# \n",
    "# #執行好此內容將匯入的資料儲存即完成\n",
    "# conn.commit()\n",
    "# conn.close()"
   ]
  },
  {
   "cell_type": "code",
   "execution_count": null,
   "metadata": {},
   "outputs": [],
   "source": []
  }
 ],
 "metadata": {
  "kernelspec": {
   "display_name": "Python 3",
   "language": "python",
   "name": "python3"
  },
  "language_info": {
   "codemirror_mode": {
    "name": "ipython",
    "version": 3
   },
   "file_extension": ".py",
   "mimetype": "text/x-python",
   "name": "python",
   "nbconvert_exporter": "python",
   "pygments_lexer": "ipython3",
   "version": "3.7.2"
  }
 },
 "nbformat": 4,
 "nbformat_minor": 1
}
