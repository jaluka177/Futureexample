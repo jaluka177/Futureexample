{
 "cells": [
  {
   "cell_type": "code",
   "execution_count": 3,
   "metadata": {
    "collapsed": true
   },
   "outputs": [],
   "source": [
    "def RSI(df, n):  \n",
    "    i = 0  \n",
    "    UpI = [0]  \n",
    "    DoI = [0]  \n",
    "    while i + 1 <= df.index[-1]:  \n",
    "        UpMove = df.get_value(i + 1, 'High') - df.get_value(i, 'High')  \n",
    "        DoMove = df.get_value(i, 'Low') - df.get_value(i + 1, 'Low')  \n",
    "        if UpMove > DoMove and UpMove > 0:  \n",
    "            UpD = UpMove  \n",
    "        else: UpD = 0  \n",
    "        UpI.append(UpD)  \n",
    "        if DoMove > UpMove and DoMove > 0:  \n",
    "            DoD = DoMove  \n",
    "        else: DoD = 0  \n",
    "        DoI.append(DoD)  \n",
    "        i = i + 1  \n",
    "    UpI = pd.Series(UpI)  \n",
    "    DoI = pd.Series(DoI)  \n",
    "    PosDI = pd.Series(pd.ewma(UpI, span = n, min_periods = n - 1))  \n",
    "    NegDI = pd.Series(pd.ewma(DoI, span = n, min_periods = n - 1))  \n",
    "    RSI = pd.Series(PosDI / (PosDI + NegDI), name = 'RSI_' + str(n))  \n",
    "    df = df.join(RSI)  \n",
    "    return df"
   ]
  },
  {
   "cell_type": "code",
   "execution_count": 2,
   "metadata": {},
   "outputs": [],
   "source": [
    "# conn = pymysql.connect(host='localhost', port=3306, passwd='judy870120526142',\\\n",
    "#        user='root', db='future', charset='utf8')\n",
    "# cursor = conn.cursor()\n",
    "# insert_statement = \"\"\"\n",
    "# Insert into compiler\n",
    "# (category,coding,compiler_name)\n",
    "# values\n",
    "# ('',\"\",'')\n",
    "# \"\"\"\n",
    "# cursor.execute(insert_statement)\n",
    "# \n",
    "# \n",
    "# #執行好此內容將匯入的資料儲存即完成\n",
    "# conn.commit()\n",
    "# conn.close()"
   ]
  },
  {
   "cell_type": "code",
   "execution_count": 3,
   "metadata": {},
   "outputs": [],
   "source": []
  },
  {
   "cell_type": "code",
   "execution_count": null,
   "metadata": {},
   "outputs": [],
   "source": []
  }
 ],
 "metadata": {
  "kernelspec": {
   "display_name": "Python 3",
   "language": "python",
   "name": "python3"
  },
  "language_info": {
   "codemirror_mode": {
    "name": "ipython",
    "version": 3
   },
   "file_extension": ".py",
   "mimetype": "text/x-python",
   "name": "python",
   "nbconvert_exporter": "python",
   "pygments_lexer": "ipython3",
   "version": "3.7.2"
  }
 },
 "nbformat": 4,
 "nbformat_minor": 1
}
