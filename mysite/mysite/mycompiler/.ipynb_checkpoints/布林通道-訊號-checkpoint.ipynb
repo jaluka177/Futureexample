{
 "cells": [
  {
   "cell_type": "code",
   "execution_count": 1,
   "metadata": {
    "collapsed": true
   },
   "outputs": [],
   "source": [
    "def BBANDS(df, n):  \n",
    "    MA = pd.Series(pd.rolling_mean(df['Close'], n))  \n",
    "    MSD = pd.Series(pd.rolling_std(df['Close'], n))  \n",
    "    b1 = 4 * MSD / MA  \n",
    "    B1 = pd.Series(b1, name = 'BollingerB_' + str(n))  \n",
    "    df = df.join(B1)  \n",
    "    b2 = (df['Close'] - MA + 2 * MSD) / (4 * MSD)  \n",
    "    B2 = pd.Series(b2, name = 'Bollinger%b_' + str(n))  \n",
    "    df = df.join(B2)  \n",
    "    return df"
   ]
  },
  {
   "cell_type": "code",
   "execution_count": 2,
   "metadata": {},
   "outputs": [],
   "source": [
    "# conn = pymysql.connect(host='localhost', port=3306, passwd='judy870120526142',\\\n",
    "#        user='root', db='future', charset='utf8')\n",
    "# cursor = conn.cursor()\n",
    "# insert_statement = \"\"\"\n",
    "# Insert into compiler\n",
    "# (category,coding,compiler_name)\n",
    "# values\n",
    "# ('',\"\",'')\n",
    "# \"\"\"\n",
    "# cursor.execute(insert_statement)\n",
    "# \n",
    "# \n",
    "# #執行好此內容將匯入的資料儲存即完成\n",
    "# conn.commit()\n",
    "# conn.close()"
   ]
  },
  {
   "cell_type": "code",
   "execution_count": null,
   "metadata": {},
   "outputs": [],
   "source": []
  }
 ],
 "metadata": {
  "kernelspec": {
   "display_name": "Python 3",
   "language": "python",
   "name": "python3"
  },
  "language_info": {
   "codemirror_mode": {
    "name": "ipython",
    "version": 2
   },
   "file_extension": ".py",
   "mimetype": "text/x-python",
   "name": "python",
   "nbconvert_exporter": "python",
   "pygments_lexer": "ipython2",
   "version": "2.7.6"
  }
 },
 "nbformat": 4,
 "nbformat_minor": 1
}
