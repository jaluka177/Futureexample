{
 "cells": [
  {
   "cell_type": "code",
   "execution_count": 6,
   "metadata": {},
   "outputs": [],
   "source": [
    "def CCI(df, n) :\n",
    "    PP = (df['High'] + df['Low'] + df['Close']) / 3  \n",
    "    CCI = pd.Series((PP - pd.rolling_mean(PP, n)) / pd.rolling_std(PP, n), name = 'CCI_' + str(n))  \n",
    "    df = df.join(CCI)  \n",
    "    return df"
   ]
  },
  {
   "cell_type": "code",
   "execution_count": 2,
   "metadata": {},
   "outputs": [],
   "source": [
    "# conn = pymysql.connect(host='localhost', port=3306, passwd='judy870120526142',\\\n",
    "#        user='root', db='future', charset='utf8')\n",
    "# cursor = conn.cursor()\n",
    "# insert_statement = \"\"\"\n",
    "# Insert into compiler\n",
    "# (category,coding,compiler_name)\n",
    "# values\n",
    "# ('',\"\",'')\n",
    "# \"\"\"\n",
    "# cursor.execute(insert_statement)\n",
    "# \n",
    "# \n",
    "# #執行好此內容將匯入的資料儲存即完成\n",
    "# conn.commit()\n",
    "# conn.close()"
   ]
  },
  {
   "cell_type": "code",
   "execution_count": null,
   "metadata": {},
   "outputs": [],
   "source": []
  }
 ],
 "metadata": {
  "kernelspec": {
   "display_name": "Python 3",
   "language": "python",
   "name": "python3"
  },
  "language_info": {
   "codemirror_mode": {
    "name": "ipython",
    "version": 3
   },
   "file_extension": ".py",
   "mimetype": "text/x-python",
   "name": "python",
   "nbconvert_exporter": "python",
   "pygments_lexer": "ipython3",
   "version": "3.7.2"
  }
 },
 "nbformat": 4,
 "nbformat_minor": 1
}
