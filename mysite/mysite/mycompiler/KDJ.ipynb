{
 "cells": [
  {
   "cell_type": "code",
   "execution_count": 1,
   "metadata": {},
   "outputs": [],
   "source": [
    "def KDJ(df):\n",
    "    \"\"\"\n",
    "    KDJ 策略\n",
    "    進場訊號: 當K>D 值 且J值小於10時進場\n",
    "    出場訊號: 當K<D 值 且J值大於90時出場\n",
    "    KDJ策略為 J<0 進場 J>100出場，但此設定回測結果大部分股票皆無交易訊號，故設定區間為(10,90)\n",
    "    \"\"\"\n",
    "    df['Talib_K_index']=talib.STOCH(df[\"High\"].values,df['Low'].values,df['Close'].values )[0]\n",
    "    df['Talib_D_index']=talib.STOCH(df[\"High\"].values,df['Low'].values,df['Close'].values )[1]\n",
    "    df['Talib_J_index']=3*df['Talib_K_index']-2*df['Talib_D_index']\n",
    "    has_position = False\n",
    "    df['signals'] = 0\n",
    "    for t in range(2,df['signals'].size):\n",
    "        if df['Talib_K_index'][t] > df[\"Talib_D_index\"][t] and df['Talib_J_index'][t]<10 :\n",
    "            if not has_position:\n",
    "                df.loc[df.index[t] ,\"signals\"]=1\n",
    "                has_position =True\n",
    "        elif df['Talib_K_index'][t] <df['Talib_D_index'][t] and df['Talib_J_index'][t]>90:\n",
    "            if has_position:\n",
    "                df.loc[df.index[t],'signals']= -1\n",
    "                has_position = False\n",
    "\n",
    "\n",
    "    df['positions'] = df['signals'].cumsum().shift()\n",
    "    return df"
   ]
  },
  {
   "cell_type": "code",
   "execution_count": null,
   "metadata": {},
   "outputs": [],
   "source": []
  }
 ],
 "metadata": {
  "kernelspec": {
   "display_name": "Python 3",
   "language": "python",
   "name": "python3"
  },
  "language_info": {
   "codemirror_mode": {
    "name": "ipython",
    "version": 3
   },
   "file_extension": ".py",
   "mimetype": "text/x-python",
   "name": "python",
   "nbconvert_exporter": "python",
   "pygments_lexer": "ipython3",
   "version": "3.7.2"
  }
 },
 "nbformat": 4,
 "nbformat_minor": 2
}
