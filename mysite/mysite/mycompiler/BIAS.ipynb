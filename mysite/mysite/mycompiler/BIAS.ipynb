{
 "cells": [
  {
   "cell_type": "code",
   "execution_count": 1,
   "metadata": {},
   "outputs": [],
   "source": [
    "def BIAS(df):\n",
    "    \"\"\"\n",
    "    乖離率,乖離率代表的就是投資者的平均報酬率，當股價漲離平均成本很多的時候，\n",
    "    就可能會有大的獲利賣壓出現，讓股價往均線跌回,當股價跌出平均成本太多的時候，攤平或逢低的買盤可能會進入\n",
    "    乖離率<-3% 進場 , >3.5% 出場\n",
    "    \"\"\"\n",
    "    has_position = False\n",
    "    df['6d'] = pd.Series.rolling(df['Close'], window=6).mean()\n",
    "    df['BIAS'] = (df['Close'] - df['6d'] )/df['6d']\n",
    "    df['signals'] = 0\n",
    "    for t in range(2, df['signals'].size):\n",
    "        if df['BIAS'][t] < -0.02:\n",
    "            if not has_position:\n",
    "                df.loc[df.index[t], 'signals'] = 1\n",
    "                has_position = True\n",
    "        elif df['BIAS'][t] > 0.025:\n",
    "            if has_position:\n",
    "                df.loc[df.index[t], 'signals'] = -1\n",
    "                has_position = False\n",
    "\n",
    "    df['positions'] = df['signals'].cumsum().shift()\n",
    "    return df"
   ]
  },
  {
   "cell_type": "code",
   "execution_count": null,
   "metadata": {},
   "outputs": [],
   "source": []
  }
 ],
 "metadata": {
  "kernelspec": {
   "display_name": "Python 3",
   "language": "python",
   "name": "python3"
  },
  "language_info": {
   "codemirror_mode": {
    "name": "ipython",
    "version": 3
   },
   "file_extension": ".py",
   "mimetype": "text/x-python",
   "name": "python",
   "nbconvert_exporter": "python",
   "pygments_lexer": "ipython3",
   "version": "3.7.2"
  }
 },
 "nbformat": 4,
 "nbformat_minor": 2
}
