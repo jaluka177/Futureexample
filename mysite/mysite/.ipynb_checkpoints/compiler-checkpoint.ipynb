{
 "cells": [
  {
   "cell_type": "code",
   "execution_count": 24,
   "metadata": {},
   "outputs": [
    {
     "name": "stdout",
     "output_type": "stream",
     "text": [
      "Requirement already satisfied: pymysql in /Users/Herry/PycharmProjects/futureS/venv/lib/python3.7/site-packages (0.9.3)\n",
      "\u001b[33mWARNING: You are using pip version 19.1, however version 19.1.1 is available.\n",
      "You should consider upgrading via the 'pip install --upgrade pip' command.\u001b[0m\n"
     ]
    }
   ],
   "source": [
    "!pip install pymysql\n",
    "import pymysql\n",
    "conn = pymysql.connect(host='localhost', port=3306, passwd='acer2009',\\\n",
    "       user='root', db='futures1', charset='utf8')\n",
    "cursor = conn.cursor()\n"
   ]
  },
  {
   "cell_type": "code",
   "execution_count": 25,
   "metadata": {},
   "outputs": [],
   "source": [
    "#######################################\n",
    "\n",
    "# 1.執行你的程式碼                        \n",
    "# 2.指標、函數、訊號                       \n",
    "# 3.若執行成功                         \n",
    "# 4.將該段程式碼放入以下compiler_coding的欄位\n",
    "# 5.若要再度新增請restart此頁面避免造成insert讀不到\n",
    "\n",
    "#######################################\n"
   ]
  },
  {
   "cell_type": "code",
   "execution_count": 26,
   "metadata": {},
   "outputs": [],
   "source": [
    "#此內容是將資料放入TABLE\n",
    "\n",
    "insert_statement = \"\"\"\n",
    "Insert into compiler\n",
    "(category,coding,compiler_name)\n",
    "values\n",
    "('',\"\",'')\n",
    "\"\"\"\n",
    "cursor.execute(insert_statement)\n",
    "\n",
    "\n",
    "#執行好此內容將匯入的資料儲存即完成\n",
    "conn.commit()\n",
    "conn.close()"
   ]
  },
  {
   "cell_type": "code",
   "execution_count": null,
   "metadata": {},
   "outputs": [],
   "source": []
  },
  {
   "cell_type": "code",
   "execution_count": null,
   "metadata": {},
   "outputs": [],
   "source": []
  }
 ],
 "metadata": {
  "kernelspec": {
   "display_name": "Python 3",
   "language": "python",
   "name": "python3"
  },
  "language_info": {
   "codemirror_mode": {
    "name": "ipython",
    "version": 3
   },
   "file_extension": ".py",
   "mimetype": "text/x-python",
   "name": "python",
   "nbconvert_exporter": "python",
   "pygments_lexer": "ipython3",
   "version": "3.7.2"
  }
 },
 "nbformat": 4,
 "nbformat_minor": 1
}
