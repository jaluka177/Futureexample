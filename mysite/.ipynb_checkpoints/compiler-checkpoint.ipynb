{
 "cells": [
  {
   "cell_type": "code",
   "execution_count": 1,
   "metadata": {},
   "outputs": [
    {
     "name": "stdout",
     "output_type": "stream",
     "text": [
      "Requirement already satisfied: pymysql in ./venv/lib/python3.7/site-packages (0.9.3)\n",
      "\u001b[33mYou are using pip version 10.0.1, however version 19.1 is available.\n",
      "You should consider upgrading via the 'pip install --upgrade pip' command.\u001b[0m\n"
     ]
    }
   ],
   "source": [
    "!pip install pymysql\n",
    "import pymysql\n",
    "conn = pymysql.connect(host='localhost', port=3306, passwd='acer2009',\\\n",
    "       user='root', db='Futures', charset='utf8')\n",
    "cursor = conn.cursor()\n"
   ]
  },
  {
   "cell_type": "code",
   "execution_count": 1,
   "metadata": {},
   "outputs": [],
   "source": [
    "#######################################\n",
    "\n",
    "# 1.執行你的程式碼                        \n",
    "# 2.指標、函數、訊號                       \n",
    "# 3.若執行成功                         \n",
    "# 4.將該段程式碼放入以下compiler_coding的欄位\n",
    "# 5.若要再度新增請restart此頁面避免造成insert讀不到\n",
    "\n",
    "#######################################"
   ]
  },
  {
   "cell_type": "code",
   "execution_count": 3,
   "metadata": {},
   "outputs": [],
   "source": [
    "#此內容是將資料放入TABLE\n",
    "\n",
    "insert_statement = \"\"\"\n",
    "Insert into compiler\n",
    "(category,coding,compiler_name)\n",
    "values\n",
    "('指標',\"import matplotlib.pyplot as plt\n",
    "import pandas as pd\n",
    "df = pd.read_csv('test.csv', encoding='big5', delimiter=',', nrows=200)\n",
    "y = df['收盤價']\n",
    "x = df['交易日期']\n",
    "plt.xlabel('date');plt.ylabel('price')\n",
    "plt.figure(figsize=(20,4))\n",
    "plt.scatter(x,y)\n",
    "plt.show()\",'開高收低')\n",
    "\"\"\"\n",
    "cursor.execute(insert_statement)\n",
    "\n",
    "\n",
    "#執行好此內容將匯入的資料儲存即完成\n",
    "conn.commit()\n",
    "conn.close()"
   ]
  },
  {
   "cell_type": "code",
   "execution_count": null,
   "metadata": {},
   "outputs": [],
   "source": []
  }
 ],
 "metadata": {
  "kernelspec": {
   "display_name": "Python 3",
   "language": "python",
   "name": "python3"
  },
  "language_info": {
   "codemirror_mode": {
    "name": "ipython",
    "version": 3
   },
   "file_extension": ".py",
   "mimetype": "text/x-python",
   "name": "python",
   "nbconvert_exporter": "python",
   "pygments_lexer": "ipython3",
   "version": "3.7.2"
  }
 },
 "nbformat": 4,
 "nbformat_minor": 1
}
